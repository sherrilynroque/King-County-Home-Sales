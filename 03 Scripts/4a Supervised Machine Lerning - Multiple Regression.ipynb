{
 "cells": [
  {
   "cell_type": "markdown",
   "id": "2bf685b7",
   "metadata": {},
   "source": [
    "### This script contains the following:\n",
    "\n",
    "#### 1. Importing libraries and data\n",
    "#### 2. Data cleaning\n",
    "#### 3. Hypothesis Testing\n",
    "     3.1 Price vs Nnumber of Bedroooms\n",
    "         3.1a. Data prep for regression analysis \n",
    "         3.1b. Regression analysis\n",
    "     3.2 Price vs Living Space\n",
    "         3.2a. Data prep for regression analysis \n",
    "         3.2b. Regression analysis\n",
    "     3.3 Price vs Living Space of 15 Closest Homes\n",
    "         3.2a. Data prep for regression analysis \n",
    "         3.2b. Regression analysis\n"
   ]
  },
  {
   "cell_type": "markdown",
   "id": "6c7148a6",
   "metadata": {},
   "source": [
    "### 1. Importing libraries and data"
   ]
  },
  {
   "cell_type": "code",
   "execution_count": 1,
   "id": "23238c63",
   "metadata": {},
   "outputs": [],
   "source": [
    "import pandas as pd\n",
    "import numpy as np\n",
    "import seaborn as sns\n",
    "import matplotlib\n",
    "import matplotlib.pyplot as plt\n",
    "import os\n",
    "import sklearn\n",
    "import statsmodels.api as sm\n",
    "from sklearn.model_selection import train_test_split \n",
    "from sklearn.linear_model import LinearRegression\n",
    "from sklearn.metrics import mean_squared_error, r2_score"
   ]
  },
  {
   "cell_type": "code",
   "execution_count": 2,
   "id": "a7684c0c",
   "metadata": {},
   "outputs": [],
   "source": [
    "# This option ensures that the graphs you create are displayed within the notebook without the need to \"call\" them specifically.\n",
    "\n",
    "%matplotlib inline"
   ]
  },
  {
   "cell_type": "code",
   "execution_count": 3,
   "id": "46f2c66e",
   "metadata": {},
   "outputs": [],
   "source": [
    "# Define path\n",
    "\n",
    "path = r'C:\\Users\\shyro\\OneDrive\\Documents\\2. Data Immersion\\Achievement 6 - Advanced Analytics & Dashboard Design\\King County House Sales'"
   ]
  },
  {
   "cell_type": "code",
   "execution_count": 4,
   "id": "8fad07ac",
   "metadata": {},
   "outputs": [],
   "source": [
    "# Import data\n",
    "\n",
    "df = pd.read_csv(os.path.join(path, '02 Data', 'Prepared Data', 'kc_house_data_new_var.csv'))"
   ]
  },
  {
   "cell_type": "markdown",
   "id": "5cb3b5fa",
   "metadata": {},
   "source": [
    "### 2. Data cleaning"
   ]
  },
  {
   "cell_type": "code",
   "execution_count": 5,
   "id": "ac84e977",
   "metadata": {},
   "outputs": [
    {
     "data": {
      "text/plain": [
       "Index(['Unnamed: 0', 'id', 'date', 'price', 'bedrooms', 'bathrooms',\n",
       "       'sqft_living', 'sqft_lot', 'floors', 'waterfront', 'view', 'condition',\n",
       "       'grade', 'sqft_above', 'sqft_basement', 'yr_built', 'yr_renovated',\n",
       "       'zipcode', 'lat', 'long', 'sqft_living15', 'sqft_lot15',\n",
       "       'Price category', 'has_basement', 'distance_to_city'],\n",
       "      dtype='object')"
      ]
     },
     "execution_count": 5,
     "metadata": {},
     "output_type": "execute_result"
    }
   ],
   "source": [
    "df.columns"
   ]
  },
  {
   "cell_type": "code",
   "execution_count": 6,
   "id": "e2c14e68",
   "metadata": {},
   "outputs": [
    {
     "data": {
      "text/html": [
       "<div>\n",
       "<style scoped>\n",
       "    .dataframe tbody tr th:only-of-type {\n",
       "        vertical-align: middle;\n",
       "    }\n",
       "\n",
       "    .dataframe tbody tr th {\n",
       "        vertical-align: top;\n",
       "    }\n",
       "\n",
       "    .dataframe thead th {\n",
       "        text-align: right;\n",
       "    }\n",
       "</style>\n",
       "<table border=\"1\" class=\"dataframe\">\n",
       "  <thead>\n",
       "    <tr style=\"text-align: right;\">\n",
       "      <th></th>\n",
       "      <th>Unnamed: 0</th>\n",
       "      <th>id</th>\n",
       "      <th>date</th>\n",
       "      <th>price</th>\n",
       "      <th>bedrooms</th>\n",
       "      <th>bathrooms</th>\n",
       "      <th>sqft_living</th>\n",
       "      <th>sqft_lot</th>\n",
       "      <th>floors</th>\n",
       "      <th>waterfront</th>\n",
       "      <th>...</th>\n",
       "      <th>yr_built</th>\n",
       "      <th>yr_renovated</th>\n",
       "      <th>zipcode</th>\n",
       "      <th>lat</th>\n",
       "      <th>long</th>\n",
       "      <th>sqft_living15</th>\n",
       "      <th>sqft_lot15</th>\n",
       "      <th>Price category</th>\n",
       "      <th>has_basement</th>\n",
       "      <th>distance_to_city</th>\n",
       "    </tr>\n",
       "  </thead>\n",
       "  <tbody>\n",
       "    <tr>\n",
       "      <th>0</th>\n",
       "      <td>0</td>\n",
       "      <td>7129300520</td>\n",
       "      <td>20141013T000000</td>\n",
       "      <td>221900</td>\n",
       "      <td>3</td>\n",
       "      <td>1.00</td>\n",
       "      <td>1180</td>\n",
       "      <td>5650</td>\n",
       "      <td>1.0</td>\n",
       "      <td>0</td>\n",
       "      <td>...</td>\n",
       "      <td>1955</td>\n",
       "      <td>0</td>\n",
       "      <td>98178</td>\n",
       "      <td>47.5112</td>\n",
       "      <td>-122.257</td>\n",
       "      <td>1340</td>\n",
       "      <td>5650</td>\n",
       "      <td>Middle tier</td>\n",
       "      <td>0</td>\n",
       "      <td>10.458148</td>\n",
       "    </tr>\n",
       "    <tr>\n",
       "      <th>1</th>\n",
       "      <td>1</td>\n",
       "      <td>6414100192</td>\n",
       "      <td>20141209T000000</td>\n",
       "      <td>538000</td>\n",
       "      <td>3</td>\n",
       "      <td>2.25</td>\n",
       "      <td>2570</td>\n",
       "      <td>7242</td>\n",
       "      <td>2.0</td>\n",
       "      <td>0</td>\n",
       "      <td>...</td>\n",
       "      <td>1951</td>\n",
       "      <td>1991</td>\n",
       "      <td>98125</td>\n",
       "      <td>47.7210</td>\n",
       "      <td>-122.319</td>\n",
       "      <td>1690</td>\n",
       "      <td>7639</td>\n",
       "      <td>High tier</td>\n",
       "      <td>1</td>\n",
       "      <td>6.796267</td>\n",
       "    </tr>\n",
       "    <tr>\n",
       "      <th>2</th>\n",
       "      <td>2</td>\n",
       "      <td>5631500400</td>\n",
       "      <td>20150225T000000</td>\n",
       "      <td>180000</td>\n",
       "      <td>2</td>\n",
       "      <td>1.00</td>\n",
       "      <td>770</td>\n",
       "      <td>10000</td>\n",
       "      <td>1.0</td>\n",
       "      <td>0</td>\n",
       "      <td>...</td>\n",
       "      <td>1933</td>\n",
       "      <td>0</td>\n",
       "      <td>98028</td>\n",
       "      <td>47.7379</td>\n",
       "      <td>-122.233</td>\n",
       "      <td>2720</td>\n",
       "      <td>8062</td>\n",
       "      <td>Low tier</td>\n",
       "      <td>0</td>\n",
       "      <td>13.601613</td>\n",
       "    </tr>\n",
       "    <tr>\n",
       "      <th>3</th>\n",
       "      <td>3</td>\n",
       "      <td>2487200875</td>\n",
       "      <td>20141209T000000</td>\n",
       "      <td>604000</td>\n",
       "      <td>4</td>\n",
       "      <td>3.00</td>\n",
       "      <td>1960</td>\n",
       "      <td>5000</td>\n",
       "      <td>1.0</td>\n",
       "      <td>0</td>\n",
       "      <td>...</td>\n",
       "      <td>1965</td>\n",
       "      <td>0</td>\n",
       "      <td>98136</td>\n",
       "      <td>47.5208</td>\n",
       "      <td>-122.393</td>\n",
       "      <td>1360</td>\n",
       "      <td>5000</td>\n",
       "      <td>High tier</td>\n",
       "      <td>1</td>\n",
       "      <td>8.402784</td>\n",
       "    </tr>\n",
       "    <tr>\n",
       "      <th>4</th>\n",
       "      <td>4</td>\n",
       "      <td>1954400510</td>\n",
       "      <td>20150218T000000</td>\n",
       "      <td>510000</td>\n",
       "      <td>3</td>\n",
       "      <td>2.00</td>\n",
       "      <td>1680</td>\n",
       "      <td>8080</td>\n",
       "      <td>1.0</td>\n",
       "      <td>0</td>\n",
       "      <td>...</td>\n",
       "      <td>1987</td>\n",
       "      <td>0</td>\n",
       "      <td>98074</td>\n",
       "      <td>47.6168</td>\n",
       "      <td>-122.045</td>\n",
       "      <td>1800</td>\n",
       "      <td>7503</td>\n",
       "      <td>High tier</td>\n",
       "      <td>0</td>\n",
       "      <td>32.210221</td>\n",
       "    </tr>\n",
       "  </tbody>\n",
       "</table>\n",
       "<p>5 rows × 25 columns</p>\n",
       "</div>"
      ],
      "text/plain": [
       "   Unnamed: 0          id             date   price  bedrooms  bathrooms  \\\n",
       "0           0  7129300520  20141013T000000  221900         3       1.00   \n",
       "1           1  6414100192  20141209T000000  538000         3       2.25   \n",
       "2           2  5631500400  20150225T000000  180000         2       1.00   \n",
       "3           3  2487200875  20141209T000000  604000         4       3.00   \n",
       "4           4  1954400510  20150218T000000  510000         3       2.00   \n",
       "\n",
       "   sqft_living  sqft_lot  floors  waterfront  ...  yr_built  yr_renovated  \\\n",
       "0         1180      5650     1.0           0  ...      1955             0   \n",
       "1         2570      7242     2.0           0  ...      1951          1991   \n",
       "2          770     10000     1.0           0  ...      1933             0   \n",
       "3         1960      5000     1.0           0  ...      1965             0   \n",
       "4         1680      8080     1.0           0  ...      1987             0   \n",
       "\n",
       "   zipcode      lat     long  sqft_living15  sqft_lot15  Price category  \\\n",
       "0    98178  47.5112 -122.257           1340        5650     Middle tier   \n",
       "1    98125  47.7210 -122.319           1690        7639       High tier   \n",
       "2    98028  47.7379 -122.233           2720        8062        Low tier   \n",
       "3    98136  47.5208 -122.393           1360        5000       High tier   \n",
       "4    98074  47.6168 -122.045           1800        7503       High tier   \n",
       "\n",
       "   has_basement  distance_to_city  \n",
       "0             0         10.458148  \n",
       "1             1          6.796267  \n",
       "2             0         13.601613  \n",
       "3             1          8.402784  \n",
       "4             0         32.210221  \n",
       "\n",
       "[5 rows x 25 columns]"
      ]
     },
     "execution_count": 6,
     "metadata": {},
     "output_type": "execute_result"
    }
   ],
   "source": [
    "df.head()"
   ]
  },
  {
   "cell_type": "code",
   "execution_count": 7,
   "id": "a94600d1",
   "metadata": {},
   "outputs": [],
   "source": [
    "# Rename the columns in the same way as in Exercise 6.2.\n",
    "\n",
    "df.rename(columns = {'Unnamed: 0' : 'No'}, inplace = True)"
   ]
  },
  {
   "cell_type": "code",
   "execution_count": 8,
   "id": "f4467475",
   "metadata": {},
   "outputs": [
    {
     "data": {
      "text/html": [
       "<div>\n",
       "<style scoped>\n",
       "    .dataframe tbody tr th:only-of-type {\n",
       "        vertical-align: middle;\n",
       "    }\n",
       "\n",
       "    .dataframe tbody tr th {\n",
       "        vertical-align: top;\n",
       "    }\n",
       "\n",
       "    .dataframe thead th {\n",
       "        text-align: right;\n",
       "    }\n",
       "</style>\n",
       "<table border=\"1\" class=\"dataframe\">\n",
       "  <thead>\n",
       "    <tr style=\"text-align: right;\">\n",
       "      <th></th>\n",
       "      <th>No</th>\n",
       "      <th>id</th>\n",
       "      <th>date</th>\n",
       "      <th>price</th>\n",
       "      <th>bedrooms</th>\n",
       "      <th>bathrooms</th>\n",
       "      <th>sqft_living</th>\n",
       "      <th>sqft_lot</th>\n",
       "      <th>floors</th>\n",
       "      <th>waterfront</th>\n",
       "      <th>...</th>\n",
       "      <th>yr_built</th>\n",
       "      <th>yr_renovated</th>\n",
       "      <th>zipcode</th>\n",
       "      <th>lat</th>\n",
       "      <th>long</th>\n",
       "      <th>sqft_living15</th>\n",
       "      <th>sqft_lot15</th>\n",
       "      <th>Price category</th>\n",
       "      <th>has_basement</th>\n",
       "      <th>distance_to_city</th>\n",
       "    </tr>\n",
       "  </thead>\n",
       "  <tbody>\n",
       "    <tr>\n",
       "      <th>0</th>\n",
       "      <td>0</td>\n",
       "      <td>7129300520</td>\n",
       "      <td>20141013T000000</td>\n",
       "      <td>221900</td>\n",
       "      <td>3</td>\n",
       "      <td>1.00</td>\n",
       "      <td>1180</td>\n",
       "      <td>5650</td>\n",
       "      <td>1.0</td>\n",
       "      <td>0</td>\n",
       "      <td>...</td>\n",
       "      <td>1955</td>\n",
       "      <td>0</td>\n",
       "      <td>98178</td>\n",
       "      <td>47.5112</td>\n",
       "      <td>-122.257</td>\n",
       "      <td>1340</td>\n",
       "      <td>5650</td>\n",
       "      <td>Middle tier</td>\n",
       "      <td>0</td>\n",
       "      <td>10.458148</td>\n",
       "    </tr>\n",
       "    <tr>\n",
       "      <th>1</th>\n",
       "      <td>1</td>\n",
       "      <td>6414100192</td>\n",
       "      <td>20141209T000000</td>\n",
       "      <td>538000</td>\n",
       "      <td>3</td>\n",
       "      <td>2.25</td>\n",
       "      <td>2570</td>\n",
       "      <td>7242</td>\n",
       "      <td>2.0</td>\n",
       "      <td>0</td>\n",
       "      <td>...</td>\n",
       "      <td>1951</td>\n",
       "      <td>1991</td>\n",
       "      <td>98125</td>\n",
       "      <td>47.7210</td>\n",
       "      <td>-122.319</td>\n",
       "      <td>1690</td>\n",
       "      <td>7639</td>\n",
       "      <td>High tier</td>\n",
       "      <td>1</td>\n",
       "      <td>6.796267</td>\n",
       "    </tr>\n",
       "    <tr>\n",
       "      <th>2</th>\n",
       "      <td>2</td>\n",
       "      <td>5631500400</td>\n",
       "      <td>20150225T000000</td>\n",
       "      <td>180000</td>\n",
       "      <td>2</td>\n",
       "      <td>1.00</td>\n",
       "      <td>770</td>\n",
       "      <td>10000</td>\n",
       "      <td>1.0</td>\n",
       "      <td>0</td>\n",
       "      <td>...</td>\n",
       "      <td>1933</td>\n",
       "      <td>0</td>\n",
       "      <td>98028</td>\n",
       "      <td>47.7379</td>\n",
       "      <td>-122.233</td>\n",
       "      <td>2720</td>\n",
       "      <td>8062</td>\n",
       "      <td>Low tier</td>\n",
       "      <td>0</td>\n",
       "      <td>13.601613</td>\n",
       "    </tr>\n",
       "    <tr>\n",
       "      <th>3</th>\n",
       "      <td>3</td>\n",
       "      <td>2487200875</td>\n",
       "      <td>20141209T000000</td>\n",
       "      <td>604000</td>\n",
       "      <td>4</td>\n",
       "      <td>3.00</td>\n",
       "      <td>1960</td>\n",
       "      <td>5000</td>\n",
       "      <td>1.0</td>\n",
       "      <td>0</td>\n",
       "      <td>...</td>\n",
       "      <td>1965</td>\n",
       "      <td>0</td>\n",
       "      <td>98136</td>\n",
       "      <td>47.5208</td>\n",
       "      <td>-122.393</td>\n",
       "      <td>1360</td>\n",
       "      <td>5000</td>\n",
       "      <td>High tier</td>\n",
       "      <td>1</td>\n",
       "      <td>8.402784</td>\n",
       "    </tr>\n",
       "    <tr>\n",
       "      <th>4</th>\n",
       "      <td>4</td>\n",
       "      <td>1954400510</td>\n",
       "      <td>20150218T000000</td>\n",
       "      <td>510000</td>\n",
       "      <td>3</td>\n",
       "      <td>2.00</td>\n",
       "      <td>1680</td>\n",
       "      <td>8080</td>\n",
       "      <td>1.0</td>\n",
       "      <td>0</td>\n",
       "      <td>...</td>\n",
       "      <td>1987</td>\n",
       "      <td>0</td>\n",
       "      <td>98074</td>\n",
       "      <td>47.6168</td>\n",
       "      <td>-122.045</td>\n",
       "      <td>1800</td>\n",
       "      <td>7503</td>\n",
       "      <td>High tier</td>\n",
       "      <td>0</td>\n",
       "      <td>32.210221</td>\n",
       "    </tr>\n",
       "  </tbody>\n",
       "</table>\n",
       "<p>5 rows × 25 columns</p>\n",
       "</div>"
      ],
      "text/plain": [
       "   No          id             date   price  bedrooms  bathrooms  sqft_living  \\\n",
       "0   0  7129300520  20141013T000000  221900         3       1.00         1180   \n",
       "1   1  6414100192  20141209T000000  538000         3       2.25         2570   \n",
       "2   2  5631500400  20150225T000000  180000         2       1.00          770   \n",
       "3   3  2487200875  20141209T000000  604000         4       3.00         1960   \n",
       "4   4  1954400510  20150218T000000  510000         3       2.00         1680   \n",
       "\n",
       "   sqft_lot  floors  waterfront  ...  yr_built  yr_renovated  zipcode  \\\n",
       "0      5650     1.0           0  ...      1955             0    98178   \n",
       "1      7242     2.0           0  ...      1951          1991    98125   \n",
       "2     10000     1.0           0  ...      1933             0    98028   \n",
       "3      5000     1.0           0  ...      1965             0    98136   \n",
       "4      8080     1.0           0  ...      1987             0    98074   \n",
       "\n",
       "       lat     long  sqft_living15  sqft_lot15  Price category  has_basement  \\\n",
       "0  47.5112 -122.257           1340        5650     Middle tier             0   \n",
       "1  47.7210 -122.319           1690        7639       High tier             1   \n",
       "2  47.7379 -122.233           2720        8062        Low tier             0   \n",
       "3  47.5208 -122.393           1360        5000       High tier             1   \n",
       "4  47.6168 -122.045           1800        7503       High tier             0   \n",
       "\n",
       "   distance_to_city  \n",
       "0         10.458148  \n",
       "1          6.796267  \n",
       "2         13.601613  \n",
       "3          8.402784  \n",
       "4         32.210221  \n",
       "\n",
       "[5 rows x 25 columns]"
      ]
     },
     "execution_count": 8,
     "metadata": {},
     "output_type": "execute_result"
    }
   ],
   "source": [
    "df.head()"
   ]
  },
  {
   "cell_type": "markdown",
   "id": "52494082",
   "metadata": {},
   "source": [
    "##### Missing values"
   ]
  },
  {
   "cell_type": "code",
   "execution_count": 9,
   "id": "3b378c19",
   "metadata": {},
   "outputs": [
    {
     "data": {
      "text/plain": [
       "No                  0\n",
       "id                  0\n",
       "date                0\n",
       "price               0\n",
       "bedrooms            0\n",
       "bathrooms           0\n",
       "sqft_living         0\n",
       "sqft_lot            0\n",
       "floors              0\n",
       "waterfront          0\n",
       "view                0\n",
       "condition           0\n",
       "grade               0\n",
       "sqft_above          0\n",
       "sqft_basement       0\n",
       "yr_built            0\n",
       "yr_renovated        0\n",
       "zipcode             0\n",
       "lat                 0\n",
       "long                0\n",
       "sqft_living15       0\n",
       "sqft_lot15          0\n",
       "Price category      0\n",
       "has_basement        0\n",
       "distance_to_city    0\n",
       "dtype: int64"
      ]
     },
     "execution_count": 9,
     "metadata": {},
     "output_type": "execute_result"
    }
   ],
   "source": [
    "# Check for missing values\n",
    "\n",
    "df.isnull().sum()\n",
    "\n",
    "# No missing values to handle"
   ]
  },
  {
   "cell_type": "markdown",
   "id": "7c3668e3",
   "metadata": {},
   "source": [
    "##### Duplicates check"
   ]
  },
  {
   "cell_type": "code",
   "execution_count": 10,
   "id": "750399c5",
   "metadata": {},
   "outputs": [],
   "source": [
    "dups = df.duplicated()"
   ]
  },
  {
   "cell_type": "code",
   "execution_count": 11,
   "id": "2255e9fc",
   "metadata": {},
   "outputs": [
    {
     "data": {
      "text/plain": [
       "(21599,)"
      ]
     },
     "execution_count": 11,
     "metadata": {},
     "output_type": "execute_result"
    }
   ],
   "source": [
    "dups.shape # No dups"
   ]
  },
  {
   "cell_type": "markdown",
   "id": "4854e545",
   "metadata": {},
   "source": [
    "##### Extreme values checks"
   ]
  },
  {
   "cell_type": "code",
   "execution_count": 12,
   "id": "ddf35136",
   "metadata": {},
   "outputs": [
    {
     "name": "stderr",
     "output_type": "stream",
     "text": [
      "C:\\Users\\shyro\\AppData\\Local\\Temp\\ipykernel_20812\\1384554536.py:1: UserWarning: \n",
      "\n",
      "`distplot` is a deprecated function and will be removed in seaborn v0.14.0.\n",
      "\n",
      "Please adapt your code to use either `displot` (a figure-level function with\n",
      "similar flexibility) or `histplot` (an axes-level function for histograms).\n",
      "\n",
      "For a guide to updating your code to use the new functions, please see\n",
      "https://gist.github.com/mwaskom/de44147ed2974457ad6372750bbe5751\n",
      "\n",
      "  sns.distplot(df['price'], bins=25) # Shows extreme values\n"
     ]
    },
    {
     "data": {
      "text/plain": [
       "<Axes: xlabel='price', ylabel='Density'>"
      ]
     },
     "execution_count": 12,
     "metadata": {},
     "output_type": "execute_result"
    },
    {
     "data": {
      "image/png": "[encoded data removed]",
      "text/plain": [
       "<Figure size 640x480 with 1 Axes>"
      ]
     },
     "metadata": {},
     "output_type": "display_data"
    }
   ],
   "source": [
    "sns.distplot(df['price'], bins=25) # Shows extreme values"
   ]
  },
  {
   "cell_type": "code",
   "execution_count": 13,
   "id": "a55c92d9",
   "metadata": {},
   "outputs": [
    {
     "data": {
      "text/plain": [
       "540255.757118385"
      ]
     },
     "execution_count": 13,
     "metadata": {},
     "output_type": "execute_result"
    }
   ],
   "source": [
    "df['price'].mean() # Check the mean"
   ]
  },
  {
   "cell_type": "code",
   "execution_count": 14,
   "id": "72570212",
   "metadata": {},
   "outputs": [
    {
     "data": {
      "text/plain": [
       "450000.0"
      ]
     },
     "execution_count": 14,
     "metadata": {},
     "output_type": "execute_result"
    }
   ],
   "source": [
    "df['price'].median() # Check the median"
   ]
  },
  {
   "cell_type": "code",
   "execution_count": 15,
   "id": "8d51bf22",
   "metadata": {},
   "outputs": [
    {
     "data": {
      "text/plain": [
       "7700000"
      ]
     },
     "execution_count": 15,
     "metadata": {},
     "output_type": "execute_result"
    }
   ],
   "source": [
    "df['price'].max() # Check the max"
   ]
  },
  {
   "cell_type": "markdown",
   "id": "0e26808e",
   "metadata": {},
   "source": [
    "### 3. Multiple regression"
   ]
  },
  {
   "cell_type": "code",
   "execution_count": 16,
   "id": "c848377a",
   "metadata": {},
   "outputs": [
    {
     "name": "stdout",
     "output_type": "stream",
     "text": [
      "(15119, 20)\n",
      "(6480, 20)\n"
     ]
    }
   ],
   "source": [
    "# split in train and test dataset, and x and y\n",
    "\n",
    "X = df.drop(['No','id','date','price','Price category'],axis = 1)\n",
    "y = df['price']\n",
    "\n",
    "X_train, X_test, y_train, y_test = train_test_split(X, y, test_size = 0.3, random_state = 1)\n",
    "\n",
    "print(X_train.shape)\n",
    "print(X_test.shape)"
   ]
  },
  {
   "cell_type": "code",
   "execution_count": 17,
   "id": "1ebce0b7",
   "metadata": {},
   "outputs": [],
   "source": [
    "# create linear model\n",
    "\n",
    "lr = LinearRegression()\n",
    "lrmodel1 = lr.fit(X_train, y_train)"
   ]
  },
  {
   "cell_type": "code",
   "execution_count": 18,
   "id": "7b4876b9",
   "metadata": {},
   "outputs": [
    {
     "name": "stdout",
     "output_type": "stream",
     "text": [
      "Intercept: 116921913.0894124\n",
      "\n",
      "Coefficients:\n",
      "bedrooms            -41703.9945\n",
      "bathrooms            42607.1333\n",
      "sqft_living            112.6361\n",
      "sqft_lot                 0.1657\n",
      "floors               -2140.3637\n",
      "waterfront          538686.9905\n",
      "view                 59099.7270\n",
      "condition            29092.9624\n",
      "grade                95020.0676\n",
      "sqft_above              74.7483\n",
      "sqft_basement           37.8877\n",
      "yr_built             -2254.4683\n",
      "yr_renovated            16.6172\n",
      "zipcode               -566.3431\n",
      "lat                 447023.2508\n",
      "long                643548.9497\n",
      "sqft_living15            8.9336\n",
      "sqft_lot15              -0.1083\n",
      "has_basement         -7441.3223\n",
      "distance_to_city    -10453.8592\n",
      "dtype: float64\n"
     ]
    }
   ],
   "source": [
    "# print model coefficients\n",
    "\n",
    "coef_lr = pd.Series(lrmodel1.coef_, index = X_train.columns)\n",
    "print('Intercept:', lrmodel1.intercept_)\n",
    "print()\n",
    "print('Coefficients:')\n",
    "print(coef_lr.round(4))"
   ]
  },
  {
   "cell_type": "code",
   "execution_count": 19,
   "id": "d447cc3e",
   "metadata": {},
   "outputs": [
    {
     "name": "stdout",
     "output_type": "stream",
     "text": [
      "                            OLS Regression Results                            \n",
      "==============================================================================\n",
      "Dep. Variable:                  price   R-squared:                       0.709\n",
      "Model:                            OLS   Adj. R-squared:                  0.708\n",
      "Method:                 Least Squares   F-statistic:                     1935.\n",
      "Date:                Sat, 24 Jun 2023   Prob (F-statistic):               0.00\n",
      "Time:                        13:06:43   Log-Likelihood:            -2.0566e+05\n",
      "No. Observations:               15119   AIC:                         4.114e+05\n",
      "Df Residuals:                   15099   BIC:                         4.115e+05\n",
      "Df Model:                          19                                         \n",
      "Covariance Type:            nonrobust                                         \n",
      "====================================================================================\n",
      "                       coef    std err          t      P>|t|      [0.025      0.975]\n",
      "------------------------------------------------------------------------------------\n",
      "const             1.169e+08   5.73e+06     20.405      0.000    1.06e+08    1.28e+08\n",
      "bedrooms          -4.17e+04   2322.656    -17.955      0.000   -4.63e+04   -3.72e+04\n",
      "bathrooms         4.261e+04   3840.289     11.095      0.000    3.51e+04    5.01e+04\n",
      "sqft_living        112.6616      3.024     37.259      0.000     106.735     118.588\n",
      "sqft_lot             0.1657      0.058      2.846      0.004       0.052       0.280\n",
      "floors           -2140.3637   4193.050     -0.510      0.610   -1.04e+04    6078.523\n",
      "waterfront        5.387e+05   1.97e+04     27.294      0.000       5e+05    5.77e+05\n",
      "view               5.91e+04   2488.736     23.747      0.000    5.42e+04     6.4e+04\n",
      "condition         2.909e+04   2736.911     10.630      0.000    2.37e+04    3.45e+04\n",
      "grade             9.502e+04   2522.734     37.666      0.000    9.01e+04       1e+05\n",
      "sqft_above          74.7228      3.560     20.988      0.000      67.744      81.701\n",
      "sqft_basement       37.8622      4.890      7.743      0.000      28.277      47.448\n",
      "yr_built         -2254.4683     86.385    -26.098      0.000   -2423.793   -2085.143\n",
      "yr_renovated        16.6172      4.286      3.877      0.000       8.217      25.018\n",
      "zipcode           -566.3431     38.487    -14.715      0.000    -641.783    -490.904\n",
      "lat                4.47e+05    1.4e+04     31.937      0.000     4.2e+05    4.74e+05\n",
      "long              6.435e+05   3.81e+04     16.910      0.000    5.69e+05    7.18e+05\n",
      "sqft_living15        8.9336      4.003      2.232      0.026       1.088      16.779\n",
      "sqft_lot15          -0.1083      0.084     -1.296      0.195      -0.272       0.056\n",
      "has_basement     -7441.3223   6167.056     -1.207      0.228   -1.95e+04    4646.854\n",
      "distance_to_city -1.045e+04    428.810    -24.379      0.000   -1.13e+04   -9613.340\n",
      "==============================================================================\n",
      "Omnibus:                    13209.781   Durbin-Watson:                   2.003\n",
      "Prob(Omnibus):                  0.000   Jarque-Bera (JB):          1528481.328\n",
      "Skew:                           3.680   Prob(JB):                         0.00\n",
      "Kurtosis:                      51.705   Cond. No.                     6.34e+17\n",
      "==============================================================================\n",
      "\n",
      "Notes:\n",
      "[1] Standard Errors assume that the covariance matrix of the errors is correctly specified.\n",
      "[2] The smallest eigenvalue is 3.81e-22. This might indicate that there are\n",
      "strong multicollinearity problems or that the design matrix is singular.\n"
     ]
    }
   ],
   "source": [
    "# get p values for coefficients with statsmodel\n",
    "\n",
    "#Fitting sm.OLS model\n",
    "X_1 = sm.add_constant(X_train)\n",
    "model = sm.OLS(y_train,X_1).fit()\n",
    "print(model.summary())"
   ]
  },
  {
   "cell_type": "code",
   "execution_count": 20,
   "id": "d60d90cc",
   "metadata": {},
   "outputs": [
    {
     "name": "stdout",
     "output_type": "stream",
     "text": [
      "(15119, 17)\n",
      "(6480, 17)\n"
     ]
    }
   ],
   "source": [
    "# split in train and test dataset, and x and y\n",
    "\n",
    "X = df.drop(['No','id','date','price','Price category','floors','sqft_lot15','has_basement'],axis = 1) # remove variables with p-value > 0.05\n",
    "y = df['price']\n",
    "\n",
    "X_train, X_test, y_train, y_test = train_test_split(X, y, test_size = 0.3, random_state = 1)\n",
    "\n",
    "print(X_train.shape)\n",
    "print(X_test.shape)"
   ]
  },
  {
   "cell_type": "code",
   "execution_count": 21,
   "id": "b11efe04",
   "metadata": {},
   "outputs": [],
   "source": [
    "# create linear model\n",
    "\n",
    "lr = LinearRegression()\n",
    "lrmodel1 = lr.fit(X_train, y_train)"
   ]
  },
  {
   "cell_type": "code",
   "execution_count": 22,
   "id": "5e31abe8",
   "metadata": {},
   "outputs": [
    {
     "name": "stdout",
     "output_type": "stream",
     "text": [
      "Intercept: 117887165.4479157\n",
      "\n",
      "Coefficients:\n",
      "bedrooms            -41523.4651\n",
      "bathrooms            41669.5054\n",
      "sqft_living            110.9672\n",
      "sqft_lot                 0.1137\n",
      "waterfront          538628.6883\n",
      "view                 59204.5468\n",
      "condition            29305.6175\n",
      "grade                94735.8387\n",
      "sqft_above              77.0851\n",
      "sqft_basement           33.8821\n",
      "yr_built             -2260.4927\n",
      "yr_renovated            16.5704\n",
      "zipcode               -570.3352\n",
      "lat                 445737.3751\n",
      "long                647666.4379\n",
      "sqft_living15            8.8326\n",
      "distance_to_city    -10494.6823\n",
      "dtype: float64\n"
     ]
    }
   ],
   "source": [
    "# print model coefficients\n",
    "\n",
    "coef_lr = pd.Series(lrmodel1.coef_, index = X_train.columns)\n",
    "print('Intercept:', lrmodel1.intercept_)\n",
    "print()\n",
    "print('Coefficients:')\n",
    "print(coef_lr.round(4))"
   ]
  },
  {
   "cell_type": "code",
   "execution_count": 23,
   "id": "d06912d8",
   "metadata": {},
   "outputs": [
    {
     "name": "stdout",
     "output_type": "stream",
     "text": [
      "                            OLS Regression Results                            \n",
      "==============================================================================\n",
      "Dep. Variable:                  price   R-squared:                       0.709\n",
      "Model:                            OLS   Adj. R-squared:                  0.708\n",
      "Method:                 Least Squares   F-statistic:                     2297.\n",
      "Date:                Sat, 24 Jun 2023   Prob (F-statistic):               0.00\n",
      "Time:                        13:06:43   Log-Likelihood:            -2.0566e+05\n",
      "No. Observations:               15119   AIC:                         4.114e+05\n",
      "Df Residuals:                   15102   BIC:                         4.115e+05\n",
      "Df Model:                          16                                         \n",
      "Covariance Type:            nonrobust                                         \n",
      "====================================================================================\n",
      "                       coef    std err          t      P>|t|      [0.025      0.975]\n",
      "------------------------------------------------------------------------------------\n",
      "const             1.179e+08    5.7e+06     20.666      0.000    1.07e+08    1.29e+08\n",
      "bedrooms         -4.152e+04   2319.996    -17.898      0.000   -4.61e+04    -3.7e+04\n",
      "bathrooms         4.167e+04   3683.327     11.313      0.000    3.44e+04    4.89e+04\n",
      "sqft_living        110.9647      2.676     41.462      0.000     105.719     116.211\n",
      "sqft_lot             0.1137      0.042      2.717      0.007       0.032       0.196\n",
      "waterfront        5.386e+05   1.97e+04     27.303      0.000       5e+05    5.77e+05\n",
      "view               5.92e+04   2486.147     23.814      0.000    5.43e+04    6.41e+04\n",
      "condition         2.931e+04   2727.520     10.744      0.000     2.4e+04    3.47e+04\n",
      "grade             9.474e+04   2504.601     37.825      0.000    8.98e+04    9.96e+04\n",
      "sqft_above          77.0877      2.436     31.646      0.000      72.313      81.862\n",
      "sqft_basement       33.8846      2.836     11.949      0.000      28.326      39.443\n",
      "yr_built         -2260.4927     83.942    -26.929      0.000   -2425.029   -2095.957\n",
      "yr_renovated        16.5704      4.277      3.874      0.000       8.187      24.954\n",
      "zipcode           -570.3352     38.292    -14.895      0.000    -645.391    -495.279\n",
      "lat               4.457e+05    1.4e+04     31.901      0.000    4.18e+05    4.73e+05\n",
      "long              6.477e+05   3.79e+04     17.082      0.000    5.73e+05    7.22e+05\n",
      "sqft_living15        8.8326      3.971      2.224      0.026       1.048      16.617\n",
      "distance_to_city -1.049e+04    424.883    -24.700      0.000   -1.13e+04   -9661.861\n",
      "==============================================================================\n",
      "Omnibus:                    13245.508   Durbin-Watson:                   2.002\n",
      "Prob(Omnibus):                  0.000   Jarque-Bera (JB):          1546308.810\n",
      "Skew:                           3.694   Prob(JB):                         0.00\n",
      "Kurtosis:                      51.990   Cond. No.                     6.32e+17\n",
      "==============================================================================\n",
      "\n",
      "Notes:\n",
      "[1] Standard Errors assume that the covariance matrix of the errors is correctly specified.\n",
      "[2] The smallest eigenvalue is 3.75e-22. This might indicate that there are\n",
      "strong multicollinearity problems or that the design matrix is singular.\n"
     ]
    }
   ],
   "source": [
    "# get p values for coefficients with statsmodel\n",
    "\n",
    "#Fitting sm.OLS model\n",
    "X_1 = sm.add_constant(X_train)\n",
    "model = sm.OLS(y_train,X_1).fit()\n",
    "print(model.summary())"
   ]
  },
  {
   "cell_type": "code",
   "execution_count": 25,
   "id": "3b819af5",
   "metadata": {},
   "outputs": [
    {
     "data": {
      "text/plain": [
       "Text(0, 0.5, 'price predicted')"
      ]
     },
     "execution_count": 25,
     "metadata": {},
     "output_type": "execute_result"
    },
    {
     "data": {
      "image/png": "[encoded data removed]",
      "text/plain": [
       "<Figure size 640x480 with 1 Axes>"
      ]
     },
     "metadata": {},
     "output_type": "display_data"
    }
   ],
   "source": [
    "# predict y values based on model coefficients\n",
    "\n",
    "pred_train = lrmodel1.predict(X_train)\n",
    "pred_test = lr.predict(X_test)\n",
    "\n",
    "plt.scatter(y_test,pred_test)\n",
    "plt.plot([min(y_test), max(y_test)], [min(y_test), max(y_test)], \"r\")\n",
    "plt.xlabel('price actual')\n",
    "plt.ylabel('price predicted')"
   ]
  },
  {
   "cell_type": "code",
   "execution_count": 26,
   "id": "a2fda33e",
   "metadata": {},
   "outputs": [],
   "source": [
    "# Create objects that contain the model summary statistics.\n",
    "\n",
    "rmse = mean_squared_error(y_test, pred_test) # This is the mean squared error\n",
    "r2 = r2_score(y_test, pred_test) # This is the R2 score. "
   ]
  },
  {
   "cell_type": "code",
   "execution_count": 27,
   "id": "bb91f70b",
   "metadata": {},
   "outputs": [
    {
     "name": "stdout",
     "output_type": "stream",
     "text": [
      "Slope: [-4.15234651e+04  4.16695054e+04  1.10967214e+02  1.13662223e-01\n",
      "  5.38628688e+05  5.92045468e+04  2.93056175e+04  9.47358387e+04\n",
      "  7.70851477e+01  3.38820657e+01 -2.26049269e+03  1.65703554e+01\n",
      " -5.70335184e+02  4.45737375e+05  6.47666438e+05  8.83259726e+00\n",
      " -1.04946823e+04]\n",
      "Mean squared error:  40696526029.75003\n",
      "R2 score:  0.7159531436504694\n"
     ]
    }
   ],
   "source": [
    "# Print the model summary statistics. This is where you evaluate the performance of the model.\n",
    "\n",
    "print('Slope:' ,lrmodel1.coef_)\n",
    "print('Mean squared error: ', rmse)\n",
    "print('R2 score: ', r2)"
   ]
  },
  {
   "cell_type": "code",
   "execution_count": 28,
   "id": "c64e47fb",
   "metadata": {},
   "outputs": [
    {
     "data": {
      "text/plain": [
       "array([374907.86116894, 340246.17875348, 243584.76366392, ...,\n",
       "       281861.88769726, 296005.44404458, 234751.85982573])"
      ]
     },
     "execution_count": 28,
     "metadata": {},
     "output_type": "execute_result"
    }
   ],
   "source": [
    "pred_test"
   ]
  },
  {
   "cell_type": "code",
   "execution_count": 29,
   "id": "2d646865",
   "metadata": {},
   "outputs": [
    {
     "data": {
      "text/html": [
       "<div>\n",
       "<style scoped>\n",
       "    .dataframe tbody tr th:only-of-type {\n",
       "        vertical-align: middle;\n",
       "    }\n",
       "\n",
       "    .dataframe tbody tr th {\n",
       "        vertical-align: top;\n",
       "    }\n",
       "\n",
       "    .dataframe thead th {\n",
       "        text-align: right;\n",
       "    }\n",
       "</style>\n",
       "<table border=\"1\" class=\"dataframe\">\n",
       "  <thead>\n",
       "    <tr style=\"text-align: right;\">\n",
       "      <th></th>\n",
       "      <th>Actual</th>\n",
       "      <th>Predicted</th>\n",
       "    </tr>\n",
       "  </thead>\n",
       "  <tbody>\n",
       "    <tr>\n",
       "      <th>6113</th>\n",
       "      <td>277500</td>\n",
       "      <td>3.749079e+05</td>\n",
       "    </tr>\n",
       "    <tr>\n",
       "      <th>13550</th>\n",
       "      <td>290000</td>\n",
       "      <td>3.402462e+05</td>\n",
       "    </tr>\n",
       "    <tr>\n",
       "      <th>1960</th>\n",
       "      <td>250000</td>\n",
       "      <td>2.435848e+05</td>\n",
       "    </tr>\n",
       "    <tr>\n",
       "      <th>4501</th>\n",
       "      <td>567035</td>\n",
       "      <td>4.941182e+05</td>\n",
       "    </tr>\n",
       "    <tr>\n",
       "      <th>7088</th>\n",
       "      <td>309000</td>\n",
       "      <td>2.823912e+05</td>\n",
       "    </tr>\n",
       "    <tr>\n",
       "      <th>12066</th>\n",
       "      <td>156000</td>\n",
       "      <td>-6.547955e+04</td>\n",
       "    </tr>\n",
       "    <tr>\n",
       "      <th>13</th>\n",
       "      <td>400000</td>\n",
       "      <td>3.229692e+05</td>\n",
       "    </tr>\n",
       "    <tr>\n",
       "      <th>19228</th>\n",
       "      <td>580000</td>\n",
       "      <td>7.728000e+05</td>\n",
       "    </tr>\n",
       "    <tr>\n",
       "      <th>7244</th>\n",
       "      <td>416000</td>\n",
       "      <td>3.914635e+05</td>\n",
       "    </tr>\n",
       "    <tr>\n",
       "      <th>8019</th>\n",
       "      <td>460000</td>\n",
       "      <td>6.156862e+05</td>\n",
       "    </tr>\n",
       "    <tr>\n",
       "      <th>20734</th>\n",
       "      <td>395000</td>\n",
       "      <td>6.057734e+05</td>\n",
       "    </tr>\n",
       "    <tr>\n",
       "      <th>4838</th>\n",
       "      <td>359000</td>\n",
       "      <td>6.442591e+05</td>\n",
       "    </tr>\n",
       "    <tr>\n",
       "      <th>8016</th>\n",
       "      <td>349950</td>\n",
       "      <td>3.261713e+05</td>\n",
       "    </tr>\n",
       "    <tr>\n",
       "      <th>21201</th>\n",
       "      <td>309000</td>\n",
       "      <td>2.423699e+05</td>\n",
       "    </tr>\n",
       "    <tr>\n",
       "      <th>551</th>\n",
       "      <td>1450000</td>\n",
       "      <td>1.421367e+06</td>\n",
       "    </tr>\n",
       "    <tr>\n",
       "      <th>9151</th>\n",
       "      <td>825000</td>\n",
       "      <td>7.799864e+05</td>\n",
       "    </tr>\n",
       "    <tr>\n",
       "      <th>20953</th>\n",
       "      <td>812000</td>\n",
       "      <td>7.855328e+05</td>\n",
       "    </tr>\n",
       "    <tr>\n",
       "      <th>17062</th>\n",
       "      <td>251000</td>\n",
       "      <td>3.206846e+05</td>\n",
       "    </tr>\n",
       "    <tr>\n",
       "      <th>17944</th>\n",
       "      <td>1210000</td>\n",
       "      <td>8.904035e+05</td>\n",
       "    </tr>\n",
       "    <tr>\n",
       "      <th>11145</th>\n",
       "      <td>770000</td>\n",
       "      <td>6.512412e+05</td>\n",
       "    </tr>\n",
       "    <tr>\n",
       "      <th>14162</th>\n",
       "      <td>460000</td>\n",
       "      <td>5.065221e+05</td>\n",
       "    </tr>\n",
       "    <tr>\n",
       "      <th>8877</th>\n",
       "      <td>183000</td>\n",
       "      <td>1.902469e+05</td>\n",
       "    </tr>\n",
       "    <tr>\n",
       "      <th>15516</th>\n",
       "      <td>295000</td>\n",
       "      <td>1.665116e+05</td>\n",
       "    </tr>\n",
       "    <tr>\n",
       "      <th>8470</th>\n",
       "      <td>563000</td>\n",
       "      <td>6.196025e+05</td>\n",
       "    </tr>\n",
       "    <tr>\n",
       "      <th>219</th>\n",
       "      <td>467000</td>\n",
       "      <td>5.549676e+05</td>\n",
       "    </tr>\n",
       "    <tr>\n",
       "      <th>6500</th>\n",
       "      <td>690000</td>\n",
       "      <td>5.537420e+05</td>\n",
       "    </tr>\n",
       "    <tr>\n",
       "      <th>7353</th>\n",
       "      <td>786000</td>\n",
       "      <td>7.946144e+05</td>\n",
       "    </tr>\n",
       "    <tr>\n",
       "      <th>10848</th>\n",
       "      <td>275000</td>\n",
       "      <td>2.173433e+05</td>\n",
       "    </tr>\n",
       "    <tr>\n",
       "      <th>15334</th>\n",
       "      <td>275000</td>\n",
       "      <td>3.355041e+05</td>\n",
       "    </tr>\n",
       "    <tr>\n",
       "      <th>17196</th>\n",
       "      <td>620000</td>\n",
       "      <td>6.257117e+05</td>\n",
       "    </tr>\n",
       "  </tbody>\n",
       "</table>\n",
       "</div>"
      ],
      "text/plain": [
       "        Actual     Predicted\n",
       "6113    277500  3.749079e+05\n",
       "13550   290000  3.402462e+05\n",
       "1960    250000  2.435848e+05\n",
       "4501    567035  4.941182e+05\n",
       "7088    309000  2.823912e+05\n",
       "12066   156000 -6.547955e+04\n",
       "13      400000  3.229692e+05\n",
       "19228   580000  7.728000e+05\n",
       "7244    416000  3.914635e+05\n",
       "8019    460000  6.156862e+05\n",
       "20734   395000  6.057734e+05\n",
       "4838    359000  6.442591e+05\n",
       "8016    349950  3.261713e+05\n",
       "21201   309000  2.423699e+05\n",
       "551    1450000  1.421367e+06\n",
       "9151    825000  7.799864e+05\n",
       "20953   812000  7.855328e+05\n",
       "17062   251000  3.206846e+05\n",
       "17944  1210000  8.904035e+05\n",
       "11145   770000  6.512412e+05\n",
       "14162   460000  5.065221e+05\n",
       "8877    183000  1.902469e+05\n",
       "15516   295000  1.665116e+05\n",
       "8470    563000  6.196025e+05\n",
       "219     467000  5.549676e+05\n",
       "6500    690000  5.537420e+05\n",
       "7353    786000  7.946144e+05\n",
       "10848   275000  2.173433e+05\n",
       "15334   275000  3.355041e+05\n",
       "17196   620000  6.257117e+05"
      ]
     },
     "execution_count": 29,
     "metadata": {},
     "output_type": "execute_result"
    }
   ],
   "source": [
    "# Create a dataframe comparing the actual and predicted values of y.\n",
    "\n",
    "data = pd.DataFrame({'Actual': y_test, 'Predicted': pred_test})\n",
    "data.head(30)"
   ]
  },
  {
   "cell_type": "code",
   "execution_count": 30,
   "id": "b6e09a99",
   "metadata": {},
   "outputs": [],
   "source": [
    "# export actual and predicted dataframe to .csv\n",
    "\n",
    "data.to_csv(os.path.join(path,'02 Data', 'Prepared Data', 'actual_predicted.csv'))"
   ]
  },
  {
   "cell_type": "code",
   "execution_count": null,
   "id": "2c52f31a",
   "metadata": {},
   "outputs": [],
   "source": []
  }
 ],
 "metadata": {
  "kernelspec": {
   "display_name": "Python 3 (ipykernel)",
   "language": "python",
   "name": "python3"
  },
  "language_info": {
   "codemirror_mode": {
    "name": "ipython",
    "version": 3
   },
   "file_extension": ".py",
   "mimetype": "text/x-python",
   "name": "python",
   "nbconvert_exporter": "python",
   "pygments_lexer": "ipython3",
   "version": "3.10.9"
  }
 },
 "nbformat": 4,
 "nbformat_minor": 5
}
